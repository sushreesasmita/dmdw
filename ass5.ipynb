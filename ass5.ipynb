{
 "cells": [
  {
   "cell_type": "code",
   "execution_count": 1,
   "metadata": {},
   "outputs": [
    {
     "name": "stdout",
     "output_type": "stream",
     "text": [
      "Decimal Scaling Normalization:\n",
      "Normalized Data: [-0.01   0.201  0.301 -0.401  0.501  0.601  0.701]\n",
      "j value: 4\n",
      "\n",
      "Min-Max Normalization:\n",
      "Normalized Data: [0.35480944 0.54627949 0.63702359 0.         0.8185118  0.9092559\n",
      " 1.        ]\n",
      "\n",
      "Z-score Normalization:\n",
      "Normalized Data: [-0.7899532  -0.19587943  0.08567211 -1.89081975  0.64877521  0.93032676\n",
      "  1.2118783 ]\n"
     ]
    }
   ],
   "source": [
    "import numpy as np\n",
    "\n",
    "# Decimal Scaling Normalization\n",
    "def decimal_scaling(data):\n",
    "    data = data.astype(float)  # Convert to float type explicitly\n",
    "    max_abs = np.max(np.abs(data))\n",
    "    j = 1\n",
    "    while max_abs >= 1:\n",
    "        data /= 10\n",
    "        max_abs = np.max(np.abs(data))\n",
    "        j += 1\n",
    "    return data, j\n",
    "\n",
    "# Min-Max Normalization\n",
    "def min_max_normalization(data, new_min, new_max):\n",
    "    min_val = np.min(data)\n",
    "    max_val = np.max(data)\n",
    "    normalized = new_min + ((data - min_val) * (new_max - new_min)) / (max_val - min_val)\n",
    "    return normalized\n",
    "\n",
    "# Z-score Normalization\n",
    "def z_score_normalization(data):\n",
    "    mean = np.mean(data)\n",
    "    std_dev = np.std(data)\n",
    "    normalized = (data - mean) / std_dev\n",
    "    return normalized\n",
    "\n",
    "# Example data\n",
    "input_data = np.array([-10, 201, 301, -401, 501, 601, 701])\n",
    "\n",
    "# Decimal Scaling\n",
    "normalized_decimal, j = decimal_scaling(input_data.copy())\n",
    "print(\"Decimal Scaling Normalization:\")\n",
    "print(\"Normalized Data:\", normalized_decimal)\n",
    "print(\"j value:\", j)\n",
    "\n",
    "# Min-Max Normalization\n",
    "new_min_value = 0.0\n",
    "new_max_value = 1.0\n",
    "normalized_min_max = min_max_normalization(input_data.copy(), new_min_value, new_max_value)\n",
    "print(\"\\nMin-Max Normalization:\")\n",
    "print(\"Normalized Data:\", normalized_min_max)\n",
    "\n",
    "# Z-score Normalization\n",
    "normalized_z_score = z_score_normalization(input_data.copy())\n",
    "print(\"\\nZ-score Normalization:\")\n",
    "print(\"Normalized Data:\", normalized_z_score)"
   ]
  }
 ],
 "metadata": {
  "kernelspec": {
   "display_name": "base",
   "language": "python",
   "name": "python3"
  },
  "language_info": {
   "codemirror_mode": {
    "name": "ipython",
    "version": 3
   },
   "file_extension": ".py",
   "mimetype": "text/x-python",
   "name": "python",
   "nbconvert_exporter": "python",
   "pygments_lexer": "ipython3",
   "version": "3.10.9"
  }
 },
 "nbformat": 4,
 "nbformat_minor": 2
}
